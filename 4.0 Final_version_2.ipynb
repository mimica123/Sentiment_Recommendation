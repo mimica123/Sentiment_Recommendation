{
 "cells": [
  {
   "cell_type": "markdown",
   "id": "cd0d09ea",
   "metadata": {},
   "source": [
    "# Model 2\n",
    "Now that a base model has been trained, it is time to include more layers to the model. This step will help to improve the learning process of the Convolutional Neural Network. First of all, BatchNormalization and Dropout are included after each layer. Dropout will help to prevent overfitting and BatchNormalization provides normalization effect which speed the learning process of the Convolutional Neural Network. In addition to the initial three layers in the base model (input, hiden and output layer), four more layers have been added. Three with 512 neurons and one with 256 neurons applying BatchNormalization, MaxPool2D and Dropout after each of them to improve performance."
   ]
  },
  {
   "cell_type": "markdown",
   "id": "e3df2e97",
   "metadata": {
    "id": "e3df2e97"
   },
   "source": [
    "# 4.1 Importing Libraries\n",
    "Same libraries and packages used in the base model are used in this case, but including BatchNormalization and Dropout"
   ]
  },
  {
   "cell_type": "code",
   "execution_count": 1,
   "id": "68588af8",
   "metadata": {
    "id": "68588af8"
   },
   "outputs": [],
   "source": [
    "import tensorflow\n",
    "\n",
    "from tensorflow.keras.models import Sequential\n",
    "\n",
    "from tensorflow.keras.layers import Convolution2D\n",
    "from tensorflow.keras.layers import MaxPooling2D\n",
    "from tensorflow.keras.layers import Flatten\n",
    "from tensorflow.keras.layers import Dense\n",
    "from tensorflow.keras.layers import Conv2D, MaxPool2D,Dropout,BatchNormalization\n",
    "from tensorflow.keras.preprocessing.image import ImageDataGenerator\n",
    "import matplotlib.image as img\n",
    "from tensorflow.python.keras import regularizers\n",
    "from Definitions import Graph_Accuracy_Loss"
   ]
  },
  {
   "cell_type": "markdown",
   "id": "83d81b6a",
   "metadata": {},
   "source": [
    "# 4.2 Layers for the Convolutional Neural Network"
   ]
  },
  {
   "cell_type": "code",
   "execution_count": 3,
   "id": "110106fa",
   "metadata": {
    "id": "110106fa"
   },
   "outputs": [],
   "source": [
    "# 4.3 Model Summarymodel= Sequential()\n",
    "model.add(Conv2D(32, kernel_size=(3, 3), padding='same', activation='relu', input_shape=(48, 48,3)))\n",
    "model.add(Conv2D(64,(3,3), padding='same', activation='relu' ))\n",
    "model.add(BatchNormalization())\n",
    "model.add(MaxPool2D(pool_size=(2, 2)))\n",
    "model.add(Dropout(0.25))\n",
    "\n",
    "model.add(Conv2D(128,(5,5), padding='same', activation='relu'))\n",
    "model.add(BatchNormalization())\n",
    "model.add(MaxPool2D(pool_size=(2, 2)))\n",
    "model.add(Dropout(0.25))\n",
    "    \n",
    "model.add(Conv2D(512,(3,3), padding='same', activation='relu', kernel_regularizer=regularizers.l2(0.01)))\n",
    "model.add(BatchNormalization())\n",
    "model.add(MaxPool2D(pool_size=(2, 2)))\n",
    "model.add(Dropout(0.25))\n",
    "\n",
    "model.add(Conv2D(512,(3,3), padding='same', activation='relu', kernel_regularizer=regularizers.l2(0.01)))\n",
    "model.add(BatchNormalization())\n",
    "model.add(MaxPool2D(pool_size=(2, 2)))\n",
    "model.add(Dropout(0.25))\n",
    "\n",
    "model.add(Flatten()) \n",
    "model.add(Dense(256,activation = 'relu'))\n",
    "model.add(BatchNormalization())\n",
    "model.add(Dropout(0.25))\n",
    "    \n",
    "model.add(Dense(512,activation = 'relu'))\n",
    "model.add(BatchNormalization())\n",
    "model.add(Dropout(0.25))\n",
    "\n",
    "model.add(Dense(5, activation='softmax'))\n",
    "\n",
    "model.compile(\n",
    "    optimizer = 'adam', \n",
    "    loss='categorical_crossentropy', \n",
    "    metrics=['accuracy']\n",
    "  )"
   ]
  },
  {
   "cell_type": "markdown",
   "id": "6b97c874",
   "metadata": {},
   "source": [
    "# 4.3 Model Summary"
   ]
  },
  {
   "cell_type": "code",
   "execution_count": 4,
   "id": "303c4438",
   "metadata": {
    "colab": {
     "base_uri": "https://localhost:8080/"
    },
    "id": "303c4438",
    "outputId": "af6a2951-e0e7-44bb-bcb3-aecc98e8f99c",
    "scrolled": false
   },
   "outputs": [
    {
     "name": "stdout",
     "output_type": "stream",
     "text": [
      "Model: \"sequential\"\n",
      "_________________________________________________________________\n",
      "Layer (type)                 Output Shape              Param #   \n",
      "=================================================================\n",
      "conv2d (Conv2D)              (None, 48, 48, 32)        896       \n",
      "_________________________________________________________________\n",
      "conv2d_1 (Conv2D)            (None, 48, 48, 64)        18496     \n",
      "_________________________________________________________________\n",
      "max_pooling2d (MaxPooling2D) (None, 24, 24, 64)        0         \n",
      "_________________________________________________________________\n",
      "dropout (Dropout)            (None, 24, 24, 64)        0         \n",
      "_________________________________________________________________\n",
      "conv2d_2 (Conv2D)            (None, 24, 24, 128)       204928    \n",
      "_________________________________________________________________\n",
      "max_pooling2d_1 (MaxPooling2 (None, 12, 12, 128)       0         \n",
      "_________________________________________________________________\n",
      "dropout_1 (Dropout)          (None, 12, 12, 128)       0         \n",
      "_________________________________________________________________\n",
      "conv2d_3 (Conv2D)            (None, 12, 12, 512)       590336    \n",
      "_________________________________________________________________\n",
      "max_pooling2d_2 (MaxPooling2 (None, 6, 6, 512)         0         \n",
      "_________________________________________________________________\n",
      "dropout_2 (Dropout)          (None, 6, 6, 512)         0         \n",
      "_________________________________________________________________\n",
      "conv2d_4 (Conv2D)            (None, 6, 6, 512)         2359808   \n",
      "_________________________________________________________________\n",
      "max_pooling2d_3 (MaxPooling2 (None, 3, 3, 512)         0         \n",
      "_________________________________________________________________\n",
      "dropout_3 (Dropout)          (None, 3, 3, 512)         0         \n",
      "_________________________________________________________________\n",
      "flatten (Flatten)            (None, 4608)              0         \n",
      "_________________________________________________________________\n",
      "dense (Dense)                (None, 256)               1179904   \n",
      "_________________________________________________________________\n",
      "dropout_4 (Dropout)          (None, 256)               0         \n",
      "_________________________________________________________________\n",
      "dense_1 (Dense)              (None, 512)               131584    \n",
      "_________________________________________________________________\n",
      "dropout_5 (Dropout)          (None, 512)               0         \n",
      "_________________________________________________________________\n",
      "dense_2 (Dense)              (None, 5)                 2565      \n",
      "=================================================================\n",
      "Total params: 4,488,517\n",
      "Trainable params: 4,488,517\n",
      "Non-trainable params: 0\n",
      "_________________________________________________________________\n"
     ]
    }
   ],
   "source": [
    "model.summary()"
   ]
  },
  {
   "cell_type": "markdown",
   "id": "6c072755",
   "metadata": {},
   "source": [
    "With the inclusion of the four layers the number of parameters augmented to 4,495,940 which will help to improve the prediction of the model."
   ]
  },
  {
   "cell_type": "markdown",
   "id": "b2396954",
   "metadata": {},
   "source": [
    "# 4.4 Fitting the Model\n",
    "This time the number of epochs is 150 compared with 60 in the base model for the gray and color scale dataset trained before"
   ]
  },
  {
   "cell_type": "code",
   "execution_count": 8,
   "id": "9cde282e",
   "metadata": {
    "colab": {
     "base_uri": "https://localhost:8080/"
    },
    "id": "9cde282e",
    "outputId": "a185a5b4-ca8f-4197-f3c1-7520405b55cd"
   },
   "outputs": [
    {
     "name": "stdout",
     "output_type": "stream",
     "text": [
      "Found 4001 images belonging to 5 classes.\n",
      "Found 947 images belonging to 5 classes.\n"
     ]
    }
   ],
   "source": [
    "#Part 2 - Fitting the CNN to the images\n",
    "\n",
    "train_datagen = ImageDataGenerator(\n",
    "    rescale=1./255,\n",
    "    shear_range=0.2,\n",
    "    zoom_range=0.2,\n",
    "    rotation_range = 15.,\n",
    "    horizontal_flip=True)\n",
    "\n",
    "test_datagen = ImageDataGenerator(rescale=1./255)\n",
    "\n",
    "training_set = train_datagen.flow_from_directory(\n",
    "    '/content/train/Train',\n",
    "    target_size=(48, 48),\n",
    "    batch_size=32,\n",
    "    class_mode='categorical')\n",
    "\n",
    "test_set = test_datagen.flow_from_directory(\n",
    "    '/content/train/Test',\n",
    "    target_size=(48, 48),\n",
    "    batch_size=32,\n",
    "    class_mode='categorical')"
   ]
  },
  {
   "cell_type": "code",
   "execution_count": 10,
   "id": "424f7584",
   "metadata": {
    "colab": {
     "base_uri": "https://localhost:8080/"
    },
    "id": "424f7584",
    "outputId": "3b7fc945-b32f-4ca0-baf9-0e2db2d7d4ad"
   },
   "outputs": [
    {
     "name": "stdout",
     "output_type": "stream",
     "text": [
      "Epoch 1/30\n",
      " 29/126 [=====>........................] - ETA: 2:30 - loss: 0.6050 - accuracy: 0.7791"
     ]
    },
    {
     "name": "stderr",
     "output_type": "stream",
     "text": [
      "/usr/local/lib/python3.7/dist-packages/PIL/Image.py:960: UserWarning: Palette images with Transparency expressed in bytes should be converted to RGBA images\n",
      "  \"Palette images with Transparency expressed in bytes should be \"\n"
     ]
    },
    {
     "name": "stdout",
     "output_type": "stream",
     "text": [
      "126/126 [==============================] - 206s 2s/step - loss: 0.6212 - accuracy: 0.7743 - val_loss: 1.3118 - val_accuracy: 0.5977\n",
      "Epoch 2/30\n",
      "126/126 [==============================] - 205s 2s/step - loss: 0.6391 - accuracy: 0.7668 - val_loss: 1.2638 - val_accuracy: 0.5839\n",
      "Epoch 3/30\n",
      "126/126 [==============================] - 203s 2s/step - loss: 0.6130 - accuracy: 0.7663 - val_loss: 1.2480 - val_accuracy: 0.6114\n",
      "Epoch 4/30\n",
      "126/126 [==============================] - 203s 2s/step - loss: 0.6216 - accuracy: 0.7768 - val_loss: 1.2955 - val_accuracy: 0.6061\n",
      "Epoch 5/30\n",
      "126/126 [==============================] - 203s 2s/step - loss: 0.6143 - accuracy: 0.7713 - val_loss: 1.2419 - val_accuracy: 0.6072\n",
      "Epoch 6/30\n",
      "126/126 [==============================] - 204s 2s/step - loss: 0.5907 - accuracy: 0.7773 - val_loss: 1.2816 - val_accuracy: 0.5935\n",
      "Epoch 7/30\n",
      "126/126 [==============================] - 203s 2s/step - loss: 0.5998 - accuracy: 0.7726 - val_loss: 1.3412 - val_accuracy: 0.6125\n",
      "Epoch 8/30\n",
      "126/126 [==============================] - 203s 2s/step - loss: 0.5901 - accuracy: 0.7821 - val_loss: 1.3053 - val_accuracy: 0.6040\n",
      "Epoch 9/30\n",
      "126/126 [==============================] - 202s 2s/step - loss: 0.5957 - accuracy: 0.7818 - val_loss: 1.3027 - val_accuracy: 0.5977\n",
      "Epoch 10/30\n",
      "126/126 [==============================] - 202s 2s/step - loss: 0.5754 - accuracy: 0.7936 - val_loss: 1.3376 - val_accuracy: 0.5998\n",
      "Epoch 11/30\n",
      "126/126 [==============================] - 203s 2s/step - loss: 0.5808 - accuracy: 0.7901 - val_loss: 1.3526 - val_accuracy: 0.6188\n",
      "Epoch 12/30\n",
      "126/126 [==============================] - 204s 2s/step - loss: 0.5683 - accuracy: 0.7871 - val_loss: 1.2584 - val_accuracy: 0.6167\n",
      "Epoch 13/30\n",
      "126/126 [==============================] - 203s 2s/step - loss: 0.5598 - accuracy: 0.7888 - val_loss: 1.3242 - val_accuracy: 0.6188\n",
      "Epoch 14/30\n",
      "126/126 [==============================] - 204s 2s/step - loss: 0.6021 - accuracy: 0.7838 - val_loss: 1.2276 - val_accuracy: 0.5935\n",
      "Epoch 15/30\n",
      "126/126 [==============================] - 202s 2s/step - loss: 0.6168 - accuracy: 0.7728 - val_loss: 1.3029 - val_accuracy: 0.6156\n",
      "Epoch 16/30\n",
      "126/126 [==============================] - 201s 2s/step - loss: 0.6120 - accuracy: 0.7756 - val_loss: 1.3395 - val_accuracy: 0.6315\n",
      "Epoch 17/30\n",
      "126/126 [==============================] - 202s 2s/step - loss: 0.5452 - accuracy: 0.7948 - val_loss: 1.3770 - val_accuracy: 0.6230\n",
      "Epoch 18/30\n",
      "126/126 [==============================] - 201s 2s/step - loss: 0.5548 - accuracy: 0.7923 - val_loss: 1.3409 - val_accuracy: 0.6199\n",
      "Epoch 19/30\n",
      "126/126 [==============================] - 204s 2s/step - loss: 0.5350 - accuracy: 0.8115 - val_loss: 1.3238 - val_accuracy: 0.6325\n",
      "Epoch 20/30\n",
      "126/126 [==============================] - 204s 2s/step - loss: 0.5428 - accuracy: 0.8000 - val_loss: 1.3132 - val_accuracy: 0.6199\n",
      "Epoch 21/30\n",
      "126/126 [==============================] - 203s 2s/step - loss: 0.6270 - accuracy: 0.7746 - val_loss: 1.2928 - val_accuracy: 0.6262\n",
      "Epoch 22/30\n",
      "126/126 [==============================] - 204s 2s/step - loss: 0.5480 - accuracy: 0.7948 - val_loss: 1.2604 - val_accuracy: 0.5998\n",
      "Epoch 23/30\n",
      "126/126 [==============================] - 204s 2s/step - loss: 0.5122 - accuracy: 0.8093 - val_loss: 1.3150 - val_accuracy: 0.6262\n",
      "Epoch 24/30\n",
      "126/126 [==============================] - 203s 2s/step - loss: 0.5197 - accuracy: 0.8068 - val_loss: 1.3369 - val_accuracy: 0.6251\n",
      "Epoch 25/30\n",
      "126/126 [==============================] - 204s 2s/step - loss: 0.5173 - accuracy: 0.8103 - val_loss: 1.2986 - val_accuracy: 0.6093\n",
      "Epoch 26/30\n",
      "126/126 [==============================] - 203s 2s/step - loss: 0.5169 - accuracy: 0.8093 - val_loss: 1.3693 - val_accuracy: 0.6241\n",
      "Epoch 27/30\n",
      "126/126 [==============================] - 203s 2s/step - loss: 0.5182 - accuracy: 0.8088 - val_loss: 1.4722 - val_accuracy: 0.6040\n",
      "Epoch 28/30\n",
      "126/126 [==============================] - 199s 2s/step - loss: 0.5891 - accuracy: 0.7996 - val_loss: 1.4167 - val_accuracy: 0.5576\n",
      "Epoch 29/30\n",
      "126/126 [==============================] - 198s 2s/step - loss: 0.6189 - accuracy: 0.7778 - val_loss: 1.2834 - val_accuracy: 0.5945\n",
      "Epoch 30/30\n",
      "126/126 [==============================] - 199s 2s/step - loss: 0.5434 - accuracy: 0.8025 - val_loss: 1.2710 - val_accuracy: 0.6262\n"
     ]
    }
   ],
   "source": [
    "from IPython.display import display\n",
    "from PIL import Image\n",
    "\n",
    "history = model.fit(\n",
    "    training_set,\n",
    "    #steps_per_epoch=800,\n",
    "    epochs=30,\n",
    "    validation_data=test_set,\n",
    "    #validation_steps=80,\n",
    "    verbose=1)"
   ]
  },
  {
   "cell_type": "code",
   "execution_count": 7,
   "id": "EswcojLG1W9L",
   "metadata": {
    "id": "EswcojLG1W9L"
   },
   "outputs": [],
   "source": [
    "model.load_weights(\"/content/my_model_weights2.120.h5\")"
   ]
  },
  {
   "cell_type": "markdown",
   "id": "9a04a7d6",
   "metadata": {},
   "source": [
    "# 4.5 Saving Weights\n",
    "One important step for model that need long time to train is to save the weights from the Convolutional Neural Network. The reason for this is that will permit us to continuous training our model or to use the model with  more layers on top of the ones used in the training process. At the same time, it will help to avoid training from the beginning in case a future result based in the model is needed."
   ]
  },
  {
   "cell_type": "code",
   "execution_count": 11,
   "id": "f3aca129",
   "metadata": {
    "id": "f3aca129"
   },
   "outputs": [],
   "source": [
    "#For saving the weights\n",
    "model.save_weights(\"my_model_weights2.180.h5\")"
   ]
  },
  {
   "cell_type": "markdown",
   "id": "300eea32",
   "metadata": {},
   "source": [
    "# 4.6 Plotting Accuracy and Loss\n",
    "In the following plots, accuracy and loss is graphed while training and testing dataset are compared for the last thirty epochs. Due to the limited number of images in both datasets, the validation has low accuracy and high loss. Initialy, the number of epochs were 180, but the accuracy started to go down and the loss started to go up for the last thirty epochs. For that reason, the  number of epochs to train was decided as 150."
   ]
  },
  {
   "cell_type": "code",
   "execution_count": 12,
   "id": "PcNZOOVmOzu0",
   "metadata": {
    "colab": {
     "base_uri": "https://localhost:8080/",
     "height": 411
    },
    "id": "PcNZOOVmOzu0",
    "outputId": "98128295-2eef-4a2d-f284-46e8a4d82372"
   },
   "outputs": [
    {
     "data": {
      "text/plain": [
       "<matplotlib.legend.Legend at 0x7fef0def7f50>"
      ]
     },
     "execution_count": 12,
     "metadata": {},
     "output_type": "execute_result"
    },
    {
     "data": {
      "image/png": "[encoded data removed]",
      "text/plain": [
       "<Figure size 1008x432 with 2 Axes>"
      ]
     },
     "metadata": {
      "needs_background": "light"
     },
     "output_type": "display_data"
    }
   ],
   "source": [
    "Graph_Accuracy_Loss(history)"
   ]
  },
  {
   "cell_type": "code",
   "execution_count": null,
   "id": "LcHwIJouqfeU",
   "metadata": {
    "id": "LcHwIJouqfeU"
   },
   "outputs": [],
   "source": []
  }
 ],
 "metadata": {
  "colab": {
   "collapsed_sections": [],
   "name": "final.2.ipynb",
   "provenance": []
  },
  "kernelspec": {
   "display_name": "Python 3 (ipykernel)",
   "language": "python",
   "name": "python3"
  },
  "language_info": {
   "codemirror_mode": {
    "name": "ipython",
    "version": 3
   },
   "file_extension": ".py",
   "mimetype": "text/x-python",
   "name": "python",
   "nbconvert_exporter": "python",
   "pygments_lexer": "ipython3",
   "version": "3.9.7"
  }
 },
 "nbformat": 4,
 "nbformat_minor": 5
}
