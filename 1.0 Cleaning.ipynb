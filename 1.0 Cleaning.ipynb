{
 "cells": [
  {
   "cell_type": "markdown",
   "id": "0584681f",
   "metadata": {},
   "source": [
    "# Cleaning Step\n",
    "In this file, the task is to clean all images in order to have them ready for inputing them in the Convolutional Neural Network. The first step is to change the name of all the images in each of the folders created for each emotion: happy, sad, angy, fear and disgust. Then images need to have the same size for matching the entry of the Convolutional Neural Network. In this particular case the input of the images size will be 48 by 48, which means the height will be 48 and the width will be 48 also. To avoid future problems with images, the raw images will be conserved in their respective classification folders and new ones will be created for each of the emotions with the new names and sizes. Also, the data will be split in train and test to have it ready for the Convolutional Neural Network step in future files.\n",
    "\n",
    "The following content will be addressed and used for future reference:\n",
    "   #### 1.1 Renaming Images\n",
    "   #### 1.2 Resizing Images\n",
    "   #### 1.3 Splitting Data"
   ]
  },
  {
   "cell_type": "markdown",
   "id": "a9ca25dd",
   "metadata": {},
   "source": [
    "### 1.1 Renaming Images\n",
    "In this step all the images will be rewritten with a name corresponding to their feeling: for example, for \"happy\" the name of the images will be Happy0, Happy1, Happy2, etc. This will help us to read images in a better form to the Convolutional Neural Network. To achieve this the function Change_Name is needed. Importing this function from the file Definitions.py which contains all the functions we are going to use for this project, so it is important to not forget to import it at the beginning of our code."
   ]
  },
  {
   "cell_type": "code",
   "execution_count": 1,
   "id": "748e5461",
   "metadata": {},
   "outputs": [],
   "source": [
    "#Importing Change_Name function to used to rename\n",
    "#all images in each folder for the different feelings\n",
    "from Definitions import Change_Name"
   ]
  },
  {
   "cell_type": "code",
   "execution_count": 5,
   "id": "8fcdff8d",
   "metadata": {},
   "outputs": [],
   "source": [
    "#Now we are going to save in path all the paths to each folder\n",
    "#containing the feelings.\n",
    "path = [\"C:/Users/vicky/lighthouse-data-notes/Final project/feelings/Happy\",\n",
    "       \"C:/Users/vicky/lighthouse-data-notes/Final project/feelings/Sad\",\n",
    "       \"C:/Users/vicky/lighthouse-data-notes/Final project/feelings/Angry\",\n",
    "       \"C:/Users/vicky/lighthouse-data-notes/Final project/feelings/Fear\",\n",
    "       \"C:/Users/vicky/lighthouse-data-notes/Final project/feelings/Disgust\"]\n",
    "\n",
    "#Remember this function needs the path to the new folder we want our\n",
    "#resized images be stored, so the variable new_path will contained\n",
    "#all these paths. For mistake-avoiding reasons the order will be the\n",
    "#same.\n",
    "new_path = [\"C:/Users/vicky/lighthouse-data-notes/Final project/feelings/Clean/Happy\",\n",
    "       \"C:/Users/vicky/lighthouse-data-notes/Final project/feelings/Clean/Sad\",\n",
    "       \"C:/Users/vicky/lighthouse-data-notes/Final project/feelings/Clean/Angry\",\n",
    "       \"C:/Users/vicky/lighthouse-data-notes/Final project/feelings/Clean/Fear\",\n",
    "        \"C:/Users/vicky/lighthouse-data-notes/Final project/feelings/Clean/Disgust\"]\n",
    "\n",
    "#In this function, the name the images need to have should be inputed \n",
    "#For that purpose, the list name is created with the names of\n",
    "#all the feelings and the initial word that our new images will have\n",
    "#followed by a number. It is important to remember following the same\n",
    "#order that we are inputing each of the paths\n",
    "name = ['Happy', 'Sad', 'Angry', 'Fear','Disgust']"
   ]
  },
  {
   "cell_type": "code",
   "execution_count": 6,
   "id": "eb19f0bc",
   "metadata": {},
   "outputs": [],
   "source": [
    "for i in range(len(path)):\n",
    "    Change_Name(path[i], new_path[i], name[i])\n",
    "    "
   ]
  },
  {
   "cell_type": "markdown",
   "id": "d696c1f3",
   "metadata": {},
   "source": [
    "### 1.2 Resizing Images\n",
    "In this step,the image's sizes will be changed and they will be stored in new folders to avoid rewriting in case the raw ones are needed in future steps. For this task, definitions previously created are used and stored in the file Definitions.py. Indeed, the Resize_Image function is being imported from Definitions."
   ]
  },
  {
   "cell_type": "code",
   "execution_count": 7,
   "id": "7183acc5",
   "metadata": {},
   "outputs": [],
   "source": [
    "#Importing Resize_Image function from Definitions document.\n",
    "from Definitions import Resize_Image\n",
    "import os\n",
    "from PIL import Image"
   ]
  },
  {
   "cell_type": "code",
   "execution_count": 8,
   "id": "10c80845",
   "metadata": {},
   "outputs": [],
   "source": [
    "#The new_path is already designed in the previous step, so \n",
    "#the path to the new folder is needed for the\n",
    "#resized images to be stored, so the variable new_path will be contained\n",
    "#all these paths. For mistake-avoiding reasons the order will be the\n",
    "#same.\n",
    "new_path_ = [\"C:/Users/vicky/lighthouse-data-notes/Final project/feelings/Clean1/Happy\",\n",
    "       \"C:/Users/vicky/lighthouse-data-notes/Final project/feelings/Clean1/Sad\",\n",
    "       \"C:/Users/vicky/lighthouse-data-notes/Final project/feelings/Clean1/Angry\",\n",
    "       \"C:/Users/vicky/lighthouse-data-notes/Final project/feelings/Clean1/Fear\",\n",
    "        \"C:/Users/vicky/lighthouse-data-notes/Final project/feelings/Clean1/Disgust\"]"
   ]
  },
  {
   "cell_type": "code",
   "execution_count": 9,
   "id": "b3247384",
   "metadata": {},
   "outputs": [],
   "source": [
    "#Creating a loop to iterate through the whole array path and\n",
    "#new_path and also adding 48x48 the desire size of the future\n",
    "#images\n",
    "for i in range(len(path)):\n",
    "    Resize_Image(new_path[i], new_path_[i], 48, 48)\n",
    "    "
   ]
  },
  {
   "cell_type": "markdown",
   "id": "ab6cfe8c",
   "metadata": {},
   "source": [
    "After these two steps we will have a folder containing folders for each of the feelings with the new images in size 48x48 and names adecuated to their correspondent feeling"
   ]
  },
  {
   "cell_type": "markdown",
   "id": "6bd78201",
   "metadata": {},
   "source": [
    "### 1.3 Splitting Data\n",
    "Before passing the data to the Convolutional Neural Network, the data will be split it into two sets, the training and the test, the proportion for splitting them will be 80% for training set and the resting 20% for the testing set. In the train set folder will be nested folders for each emotion and the same will happen with the test set."
   ]
  },
  {
   "cell_type": "code",
   "execution_count": null,
   "id": "b2023cf9",
   "metadata": {},
   "outputs": [],
   "source": []
  }
 ],
 "metadata": {
  "kernelspec": {
   "display_name": "Python 3 (ipykernel)",
   "language": "python",
   "name": "python3"
  },
  "language_info": {
   "codemirror_mode": {
    "name": "ipython",
    "version": 3
   },
   "file_extension": ".py",
   "mimetype": "text/x-python",
   "name": "python",
   "nbconvert_exporter": "python",
   "pygments_lexer": "ipython3",
   "version": "3.9.7"
  }
 },
 "nbformat": 4,
 "nbformat_minor": 5
}
