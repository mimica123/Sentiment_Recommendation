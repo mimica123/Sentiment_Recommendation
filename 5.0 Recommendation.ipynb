{
 "cells": [
  {
   "cell_type": "markdown",
   "id": "8de34235",
   "metadata": {},
   "source": [
    "# 5.0 Recommendation\n",
    "For the recommendation part, the prediction from the sentimental analysis is used plus two more questions to release a recommendation. One of the questions is the preference of the user for a movie or a song. The second question is users month of birth. With that information, a prediction is created the possible outcomes as recommendations are chocolate, ice cream and cake. The dataset has 50 rows with different inputs acording with users decision. \n",
    "\n",
    "In this particular case two model are used for getting the recommendation. One of them is DecisionTreeClassifier and the other one is MultinomialNB (Naive Bayes). To use those models, some packages need to be imported from sklearn library. Due to our dataset has text, LabelEncoder is necessary to apply for converting text into numerical variables adecuatedly to their category.\n",
    "\n",
    "At the end of the process, a comparison between both models is made to test which one is more precise to our dataset. Accuracy and loss performed in training and testing set will determine which method perform better. After the model is ready, it is saved to be used in the streamlit.py document to be deployed.\n",
    "\n",
    "Table of content is as follow:\n",
    "   #### 5.1 Importing Packages and Libraries\n",
    "   #### 5.2 Exploring the Dataset\n",
    "   #### 5.3 Preprocessing\n",
    "   #### 5.4 Training and Prediction\n",
    "   #### 5.5 Accuracy and Loss\n",
    "   "
   ]
  },
  {
   "cell_type": "markdown",
   "id": "0d812e3a",
   "metadata": {},
   "source": [
    "# 5.1 Importing Packages and Libraries"
   ]
  },
  {
   "cell_type": "code",
   "execution_count": 1,
   "id": "a5035891",
   "metadata": {},
   "outputs": [],
   "source": [
    "#Importing required libraries\n",
    "import pandas as pd\n",
    "import numpy as np\n",
    "from sklearn.tree import DecisionTreeClassifier\n",
    "from sklearn.model_selection import train_test_split\n",
    "from sklearn.preprocessing import LabelEncoder\n",
    "from sklearn.metrics import accuracy_score\n",
    "from sklearn.naive_bayes import MultinomialNB\n",
    "import matplotlib.pyplot as plt\n",
    "from sklearn import tree\n",
    "import pickle"
   ]
  },
  {
   "cell_type": "markdown",
   "id": "b733895a",
   "metadata": {},
   "source": [
    "# 5.2 Exploring the Dataset"
   ]
  },
  {
   "cell_type": "code",
   "execution_count": 9,
   "id": "e5235b6e",
   "metadata": {},
   "outputs": [
    {
     "data": {
      "text/html": [
       "<div>\n",
       "<style scoped>\n",
       "    .dataframe tbody tr th:only-of-type {\n",
       "        vertical-align: middle;\n",
       "    }\n",
       "\n",
       "    .dataframe tbody tr th {\n",
       "        vertical-align: top;\n",
       "    }\n",
       "\n",
       "    .dataframe thead th {\n",
       "        text-align: right;\n",
       "    }\n",
       "</style>\n",
       "<table border=\"1\" class=\"dataframe\">\n",
       "  <thead>\n",
       "    <tr style=\"text-align: right;\">\n",
       "      <th></th>\n",
       "      <th>Emotion</th>\n",
       "      <th>Preference</th>\n",
       "      <th>Month</th>\n",
       "      <th>Prediction</th>\n",
       "    </tr>\n",
       "    <tr>\n",
       "      <th>Index</th>\n",
       "      <th></th>\n",
       "      <th></th>\n",
       "      <th></th>\n",
       "      <th></th>\n",
       "    </tr>\n",
       "  </thead>\n",
       "  <tbody>\n",
       "    <tr>\n",
       "      <th>1</th>\n",
       "      <td>Happy</td>\n",
       "      <td>Movie</td>\n",
       "      <td>1</td>\n",
       "      <td>Ice cream</td>\n",
       "    </tr>\n",
       "    <tr>\n",
       "      <th>2</th>\n",
       "      <td>Sad</td>\n",
       "      <td>Song</td>\n",
       "      <td>3</td>\n",
       "      <td>Chocolate</td>\n",
       "    </tr>\n",
       "    <tr>\n",
       "      <th>3</th>\n",
       "      <td>Angry</td>\n",
       "      <td>Movie</td>\n",
       "      <td>5</td>\n",
       "      <td>Chocolate</td>\n",
       "    </tr>\n",
       "    <tr>\n",
       "      <th>4</th>\n",
       "      <td>Fear</td>\n",
       "      <td>Song</td>\n",
       "      <td>9</td>\n",
       "      <td>Cake</td>\n",
       "    </tr>\n",
       "    <tr>\n",
       "      <th>5</th>\n",
       "      <td>Disgust</td>\n",
       "      <td>Movie</td>\n",
       "      <td>10</td>\n",
       "      <td>Cake</td>\n",
       "    </tr>\n",
       "  </tbody>\n",
       "</table>\n",
       "</div>"
      ],
      "text/plain": [
       "       Emotion Preference  Month Prediction\n",
       "Index                                      \n",
       "1        Happy      Movie      1  Ice cream\n",
       "2          Sad       Song      3  Chocolate\n",
       "3        Angry      Movie      5  Chocolate\n",
       "4         Fear       Song      9       Cake\n",
       "5      Disgust      Movie     10       Cake"
      ]
     },
     "execution_count": 9,
     "metadata": {},
     "output_type": "execute_result"
    }
   ],
   "source": [
    "data= pd.read_csv('recommendation.txt', sep='\\t', index_col='Index')\n",
    "\n",
    "data.head()"
   ]
  },
  {
   "cell_type": "markdown",
   "metadata": {},
   "source": [
    "# 5.3 Preprocessing\n",
    "Columns in the dataset contains strings. Then, before inputing the data in the model, it is necesary to change everything to floats, which is what LabelEncoder does. However, only those columns with strings will be inputed to be converted in floats."
   ]
  },
  {
   "cell_type": "code",
   "execution_count": 10,
   "id": "50d5a544",
   "metadata": {},
   "outputs": [],
   "source": [
    "#Saving LabelEncoder in le for simplicity\n",
    "le=LabelEncoder()"
   ]
  },
  {
   "cell_type": "code",
   "execution_count": 11,
   "id": "ecf83ef5",
   "metadata": {},
   "outputs": [
    {
     "data": {
      "text/html": [
       "<div>\n",
       "<style scoped>\n",
       "    .dataframe tbody tr th:only-of-type {\n",
       "        vertical-align: middle;\n",
       "    }\n",
       "\n",
       "    .dataframe tbody tr th {\n",
       "        vertical-align: top;\n",
       "    }\n",
       "\n",
       "    .dataframe thead th {\n",
       "        text-align: right;\n",
       "    }\n",
       "</style>\n",
       "<table border=\"1\" class=\"dataframe\">\n",
       "  <thead>\n",
       "    <tr style=\"text-align: right;\">\n",
       "      <th></th>\n",
       "      <th>Emotion</th>\n",
       "      <th>Preference</th>\n",
       "      <th>Month</th>\n",
       "      <th>Prediction</th>\n",
       "    </tr>\n",
       "    <tr>\n",
       "      <th>Index</th>\n",
       "      <th></th>\n",
       "      <th></th>\n",
       "      <th></th>\n",
       "      <th></th>\n",
       "    </tr>\n",
       "  </thead>\n",
       "  <tbody>\n",
       "    <tr>\n",
       "      <th>1</th>\n",
       "      <td>3</td>\n",
       "      <td>0</td>\n",
       "      <td>1</td>\n",
       "      <td>2</td>\n",
       "    </tr>\n",
       "    <tr>\n",
       "      <th>2</th>\n",
       "      <td>4</td>\n",
       "      <td>1</td>\n",
       "      <td>3</td>\n",
       "      <td>1</td>\n",
       "    </tr>\n",
       "    <tr>\n",
       "      <th>3</th>\n",
       "      <td>0</td>\n",
       "      <td>0</td>\n",
       "      <td>5</td>\n",
       "      <td>1</td>\n",
       "    </tr>\n",
       "    <tr>\n",
       "      <th>4</th>\n",
       "      <td>2</td>\n",
       "      <td>1</td>\n",
       "      <td>9</td>\n",
       "      <td>0</td>\n",
       "    </tr>\n",
       "    <tr>\n",
       "      <th>5</th>\n",
       "      <td>1</td>\n",
       "      <td>0</td>\n",
       "      <td>10</td>\n",
       "      <td>0</td>\n",
       "    </tr>\n",
       "  </tbody>\n",
       "</table>\n",
       "</div>"
      ],
      "text/plain": [
       "       Emotion  Preference  Month  Prediction\n",
       "Index                                        \n",
       "1            3           0      1           2\n",
       "2            4           1      3           1\n",
       "3            0           0      5           1\n",
       "4            2           1      9           0\n",
       "5            1           0     10           0"
      ]
     },
     "execution_count": 11,
     "metadata": {},
     "output_type": "execute_result"
    }
   ],
   "source": [
    "#The strings are reemplaced with numbers and save the in the same Dataframe\n",
    "data['Emotion'] = le.fit_transform(data['Emotion'])\n",
    "data['Preference'] = le.fit_transform(data['Preference'])\n",
    "data['Prediction'] = le.fit_transform(data['Prediction'])\n",
    "data.head()"
   ]
  },
  {
   "cell_type": "markdown",
   "metadata": {},
   "source": [
    "# 5.4 Training and Prediction\n",
    "After having the data cleaned, it is ready for being inputed in the models. First, the data is divided in target and rest of the data. The models used are MultinomialNB and DecisionTreeClassifier because the dataset is small. In other case, more powerful model should be used."
   ]
  },
  {
   "cell_type": "code",
   "execution_count": 12,
   "id": "c5cf53fc",
   "metadata": {},
   "outputs": [],
   "source": [
    "#Separtion between target and data\n",
    "y=data['Prediction']\n",
    "X=data.drop(columns='Prediction')"
   ]
  },
  {
   "cell_type": "code",
   "execution_count": 13,
   "id": "97d705ae",
   "metadata": {},
   "outputs": [],
   "source": [
    "#Instanciating MultinomialNB and DecisionTreeClassifier models\n",
    "naive = MultinomialNB()\n",
    "clf = DecisionTreeClassifier(criterion = 'entropy')"
   ]
  },
  {
   "cell_type": "code",
   "execution_count": 14,
   "id": "f98993c4",
   "metadata": {},
   "outputs": [],
   "source": [
    "#Using the train_test_split to create train and test sets.\n",
    "X_train, X_test, y_train, y_test = train_test_split(X, y, random_state = 47, test_size = 0.20)"
   ]
  },
  {
   "cell_type": "code",
   "execution_count": 15,
   "id": "08da37ce",
   "metadata": {},
   "outputs": [
    {
     "data": {
      "text/plain": [
       "DecisionTreeClassifier(criterion='entropy')"
      ]
     },
     "execution_count": 15,
     "metadata": {},
     "output_type": "execute_result"
    }
   ],
   "source": [
    "#Training the Decision Tree Classifier and Multinomial Naive Bayes\n",
    "naive.fit(X_train, y_train)\n",
    "clf.fit(X_train, y_train)"
   ]
  },
  {
   "cell_type": "code",
   "execution_count": 16,
   "id": "20f805b8",
   "metadata": {},
   "outputs": [
    {
     "data": {
      "image/png": "[encoded data removed]",
      "text/plain": [
       "<Figure size 360x360 with 1 Axes>"
      ]
     },
     "metadata": {
      "needs_background": "light"
     },
     "output_type": "display_data"
    }
   ],
   "source": [
    "#Plotting the Decision Tree\n",
    "features = ['Emotion', 'Preference', 'Month', 'Prediction']\n",
    "classes = ['Chocolate', 'Ice cream', 'Cake']\n",
    "fig = plt.figure(figsize=(5,5))\n",
    "_ = tree.plot_tree(clf, \n",
    "                   feature_names=features,  \n",
    "                   class_names=classes,\n",
    "                   filled=True)"
   ]
  },
  {
   "cell_type": "code",
   "execution_count": 17,
   "id": "c3b36780",
   "metadata": {},
   "outputs": [
    {
     "name": "stdout",
     "output_type": "stream",
     "text": [
      "|--- feature_2 <= 5.50\n",
      "|   |--- feature_0 <= 1.50\n",
      "|   |   |--- feature_1 <= 0.50\n",
      "|   |   |   |--- feature_0 <= 0.50\n",
      "|   |   |   |   |--- feature_2 <= 4.00\n",
      "|   |   |   |   |   |--- class: 2\n",
      "|   |   |   |   |--- feature_2 >  4.00\n",
      "|   |   |   |   |   |--- class: 1\n",
      "|   |   |   |--- feature_0 >  0.50\n",
      "|   |   |   |   |--- class: 1\n",
      "|   |   |--- feature_1 >  0.50\n",
      "|   |   |   |--- feature_2 <= 2.00\n",
      "|   |   |   |   |--- class: 1\n",
      "|   |   |   |--- feature_2 >  2.00\n",
      "|   |   |   |   |--- class: 0\n",
      "|   |--- feature_0 >  1.50\n",
      "|   |   |--- feature_2 <= 4.50\n",
      "|   |   |   |--- feature_1 <= 0.50\n",
      "|   |   |   |   |--- feature_0 <= 2.50\n",
      "|   |   |   |   |   |--- class: 1\n",
      "|   |   |   |   |--- feature_0 >  2.50\n",
      "|   |   |   |   |   |--- class: 2\n",
      "|   |   |   |--- feature_1 >  0.50\n",
      "|   |   |   |   |--- feature_0 <= 2.50\n",
      "|   |   |   |   |   |--- class: 2\n",
      "|   |   |   |   |--- feature_0 >  2.50\n",
      "|   |   |   |   |   |--- class: 1\n",
      "|   |   |--- feature_2 >  4.50\n",
      "|   |   |   |--- class: 2\n",
      "|--- feature_2 >  5.50\n",
      "|   |--- feature_0 <= 2.50\n",
      "|   |   |--- feature_2 <= 10.50\n",
      "|   |   |   |--- feature_2 <= 7.50\n",
      "|   |   |   |   |--- feature_1 <= 0.50\n",
      "|   |   |   |   |   |--- class: 1\n",
      "|   |   |   |   |--- feature_1 >  0.50\n",
      "|   |   |   |   |   |--- feature_2 <= 6.50\n",
      "|   |   |   |   |   |   |--- class: 0\n",
      "|   |   |   |   |   |--- feature_2 >  6.50\n",
      "|   |   |   |   |   |   |--- feature_0 <= 1.00\n",
      "|   |   |   |   |   |   |   |--- class: 0\n",
      "|   |   |   |   |   |   |--- feature_0 >  1.00\n",
      "|   |   |   |   |   |   |   |--- class: 0\n",
      "|   |   |   |--- feature_2 >  7.50\n",
      "|   |   |   |   |--- feature_0 <= 1.50\n",
      "|   |   |   |   |   |--- class: 0\n",
      "|   |   |   |   |--- feature_0 >  1.50\n",
      "|   |   |   |   |   |--- feature_1 <= 0.50\n",
      "|   |   |   |   |   |   |--- class: 2\n",
      "|   |   |   |   |   |--- feature_1 >  0.50\n",
      "|   |   |   |   |   |   |--- class: 0\n",
      "|   |   |--- feature_2 >  10.50\n",
      "|   |   |   |--- class: 1\n",
      "|   |--- feature_0 >  2.50\n",
      "|   |   |--- feature_1 <= 0.50\n",
      "|   |   |   |--- class: 1\n",
      "|   |   |--- feature_1 >  0.50\n",
      "|   |   |   |--- feature_2 <= 7.50\n",
      "|   |   |   |   |--- class: 1\n",
      "|   |   |   |--- feature_2 >  7.50\n",
      "|   |   |   |   |--- feature_2 <= 10.00\n",
      "|   |   |   |   |   |--- class: 0\n",
      "|   |   |   |   |--- feature_2 >  10.00\n",
      "|   |   |   |   |   |--- feature_2 <= 11.50\n",
      "|   |   |   |   |   |   |--- class: 2\n",
      "|   |   |   |   |   |--- feature_2 >  11.50\n",
      "|   |   |   |   |   |   |--- class: 0\n",
      "\n"
     ]
    }
   ],
   "source": [
    "#A description of how the Decision Tree is performed\n",
    "text_representation = tree.export_text(clf)\n",
    "print(text_representation)"
   ]
  },
  {
   "cell_type": "code",
   "execution_count": 18,
   "id": "2483ab8a",
   "metadata": {},
   "outputs": [],
   "source": [
    "#Predicting labels on the test set.\n",
    "y_pred_naive = naive.predict(X_test)\n",
    "y_pred =  clf.predict(X_test)"
   ]
  },
  {
   "cell_type": "markdown",
   "metadata": {},
   "source": [
    "# 5.5 Accuracy and Loss"
   ]
  },
  {
   "cell_type": "code",
   "execution_count": 19,
   "id": "045eea63",
   "metadata": {},
   "outputs": [
    {
     "name": "stdout",
     "output_type": "stream",
     "text": [
      "Accuracy Score on train data for naive:  0.4\n",
      "Accuracy Score on test data for naive:  0.2\n",
      "Accuracy Score on train data:  0.95\n",
      "Accuracy Score on test data:  0.5\n"
     ]
    }
   ],
   "source": [
    "#Printing accuracy and loss for each model for comparison\n",
    "print('Accuracy Score on train data for naive: ', accuracy_score(y_true=y_train, y_pred=naive.predict(X_train)))\n",
    "print('Accuracy Score on test data for naive: ', accuracy_score(y_true=y_test, y_pred=y_pred_naive))\n",
    "print('Accuracy Score on train data: ', accuracy_score(y_true=y_train, y_pred=clf.predict(X_train)))\n",
    "print('Accuracy Score on test data: ', accuracy_score(y_true=y_test, y_pred=y_pred))"
   ]
  },
  {
   "cell_type": "markdown",
   "metadata": {},
   "source": [
    "# 5.6 Saving the Model"
   ]
  },
  {
   "cell_type": "code",
   "execution_count": 21,
   "id": "f7335a04",
   "metadata": {},
   "outputs": [],
   "source": [
    "#For saving the model\n",
    "filename = \"Decision_tree_model.sav\"\n",
    "pickle.dump(clf, open(filename, 'wb'))"
   ]
  },
  {
   "cell_type": "markdown",
   "id": "5c656825",
   "metadata": {},
   "source": []
  }
 ],
 "metadata": {
  "interpreter": {
   "hash": "4191dc80e4ba8664c294b99d58bfba03448f89d801b10a504e1674e74931ddca"
  },
  "kernelspec": {
   "display_name": "Python 3.9.7 64-bit ('practicalRL': conda)",
   "name": "python3"
  },
  "language_info": {
   "codemirror_mode": {
    "name": "ipython",
    "version": 3
   },
   "file_extension": ".py",
   "mimetype": "text/x-python",
   "name": "python",
   "nbconvert_exporter": "python",
   "pygments_lexer": "ipython3",
   "version": "3.9.7"
  }
 },
 "nbformat": 4,
 "nbformat_minor": 5
}
